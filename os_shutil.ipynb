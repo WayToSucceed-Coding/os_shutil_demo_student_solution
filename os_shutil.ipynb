{
 "cells": [
  {
   "cell_type": "code",
   "execution_count": 16,
   "id": "1139b55b",
   "metadata": {},
   "outputs": [],
   "source": [
    "import os\n",
    "import shutil"
   ]
  },
  {
   "cell_type": "markdown",
   "id": "5ec24343",
   "metadata": {},
   "source": [
    "Task 1: Print the current working directory using os.getcwd()"
   ]
  },
  {
   "cell_type": "code",
   "execution_count": 3,
   "id": "00c07227",
   "metadata": {},
   "outputs": [
    {
     "name": "stdout",
     "output_type": "stream",
     "text": [
      "c:\\Users\\LENOVO\\Desktop\\CurriculumDesign\\Python\\Code\\New Classes\\os_shutil_demo_student_solution\n"
     ]
    }
   ],
   "source": [
    "print(os.getcwd())"
   ]
  },
  {
   "cell_type": "markdown",
   "id": "992d10be",
   "metadata": {},
   "source": [
    "Task 2: List all items in the current directory using os.listdir()"
   ]
  },
  {
   "cell_type": "code",
   "execution_count": 4,
   "id": "d463dac9",
   "metadata": {},
   "outputs": [
    {
     "name": "stdout",
     "output_type": "stream",
     "text": [
      "Items in current directory: ['.git', 'backups', 'data.txt', 'notes.txt', 'os_shutil.ipynb', 'projects', 'to_delete']\n"
     ]
    }
   ],
   "source": [
    "items = os.listdir()\n",
    "\n",
    "print('Items in current directory:', items)"
   ]
  },
  {
   "cell_type": "markdown",
   "id": "459431b2",
   "metadata": {},
   "source": [
    "Task 3: Check if temp1.txt exists inside to_delete folder using os.path.exists() and if temp1.txt is a folder using os.path.isdir()\n",
    "\n"
   ]
  },
  {
   "cell_type": "code",
   "execution_count": 6,
   "id": "a8e8d639",
   "metadata": {},
   "outputs": [
    {
     "name": "stdout",
     "output_type": "stream",
     "text": [
      "temp1.txt exist? True\n",
      "temp1.txt is a folder? False\n"
     ]
    }
   ],
   "source": [
    "print(\"temp1.txt exist?\", os.path.exists(\"to_delete/temp1.txt\"))\n",
    "print(\"temp1.txt is a folder?\", os.path.isdir(\"to_delete/temp1.txt\"))"
   ]
  },
  {
   "cell_type": "markdown",
   "id": "1b60e253",
   "metadata": {},
   "source": [
    "Task 4: Create a folder named \"StudentZone\" using os.mkdir()"
   ]
  },
  {
   "cell_type": "code",
   "execution_count": 7,
   "id": "d33ebeeb",
   "metadata": {},
   "outputs": [],
   "source": [
    "os.mkdir(\"StudentZone\")"
   ]
  },
  {
   "cell_type": "markdown",
   "id": "bce06267",
   "metadata": {},
   "source": [
    "Task 5: Create a nested folder StudentZone/Week1/Assignments using os.makedirs()"
   ]
  },
  {
   "cell_type": "code",
   "execution_count": 9,
   "id": "c8b4804b",
   "metadata": {},
   "outputs": [],
   "source": [
    "os.makedirs(\"StudentZone/Week1/Assignments\")"
   ]
  },
  {
   "cell_type": "markdown",
   "id": "e68cce13",
   "metadata": {},
   "source": [
    "Task 6: Rename \"StudentZone\" to \"MyZone\" using os.rename()"
   ]
  },
  {
   "cell_type": "code",
   "execution_count": 10,
   "id": "fb4bd111",
   "metadata": {},
   "outputs": [],
   "source": [
    "os.rename(\"StudentZone\", \"MyZone\")"
   ]
  },
  {
   "cell_type": "markdown",
   "id": "9e3cf005",
   "metadata": {},
   "source": [
    "Task 7: Delete temp1.txt inside to_delete folder using os.remove()"
   ]
  },
  {
   "cell_type": "code",
   "execution_count": 11,
   "id": "6657469e",
   "metadata": {},
   "outputs": [],
   "source": [
    "os.remove(\"to_delete/temp1.txt\")"
   ]
  },
  {
   "cell_type": "markdown",
   "id": "e2346a55",
   "metadata": {},
   "source": [
    "Task 8: Delete the empty folder Assignments folder inside Week1 folder which is inside MyZone folder using os.rmdir()"
   ]
  },
  {
   "cell_type": "code",
   "execution_count": 12,
   "id": "f7d5ec96",
   "metadata": {},
   "outputs": [],
   "source": [
    "os.rmdir(\"MyZone/Week1/Assignments\")"
   ]
  },
  {
   "cell_type": "markdown",
   "id": "eacb335f",
   "metadata": {},
   "source": [
    "Task 9: Use os.path.join() to combine MyZone/Week2/Assignments folder path with the filename notes.txt. Store the final path in a variable named path and print it.\n"
   ]
  },
  {
   "cell_type": "code",
   "execution_count": 23,
   "id": "41f56cbf",
   "metadata": {},
   "outputs": [
    {
     "name": "stdout",
     "output_type": "stream",
     "text": [
      "MyZone/Week2/Assignments\\notes.txt\n"
     ]
    }
   ],
   "source": [
    "path = os.path.join(\"MyZone/Week2/Assignments\", \"notes.txt\")\n",
    "print(path)"
   ]
  },
  {
   "cell_type": "markdown",
   "id": "2a0c006f",
   "metadata": {},
   "source": [
    "Task 10: Use os.path.splitext() on the file project1.py located inside the project1 folder within the projects folder and print what it returns."
   ]
  },
  {
   "cell_type": "code",
   "execution_count": 15,
   "id": "967faf29",
   "metadata": {},
   "outputs": [
    {
     "name": "stdout",
     "output_type": "stream",
     "text": [
      "('projects/project2/main', '.py')\n"
     ]
    }
   ],
   "source": [
    "print(os.path.splitext(\"projects/project2/main.py\"))"
   ]
  },
  {
   "cell_type": "markdown",
   "id": "6e3e1ff3",
   "metadata": {},
   "source": [
    "Task 11: Copy \"notes.txt\" into MyZone using shutil.copy()\n"
   ]
  },
  {
   "cell_type": "code",
   "execution_count": 20,
   "id": "13c67c53",
   "metadata": {},
   "outputs": [
    {
     "data": {
      "text/plain": [
       "'MyZone\\\\notes.txt'"
      ]
     },
     "execution_count": 20,
     "metadata": {},
     "output_type": "execute_result"
    }
   ],
   "source": [
    "shutil.copy(\"notes.txt\", \"MyZone\")"
   ]
  },
  {
   "cell_type": "markdown",
   "id": "7d5a465c",
   "metadata": {},
   "source": [
    "Task 12: Copy the entire \"MyZone\" folder into a new folder called \"MyZoneBackup\" using shutil.copytree()\n"
   ]
  },
  {
   "cell_type": "code",
   "execution_count": 21,
   "id": "99fd303a",
   "metadata": {},
   "outputs": [
    {
     "data": {
      "text/plain": [
       "'MyZoneBackup'"
      ]
     },
     "execution_count": 21,
     "metadata": {},
     "output_type": "execute_result"
    }
   ],
   "source": [
    "shutil.copytree(\"MyZone\", \"MyZoneBackup\")"
   ]
  },
  {
   "cell_type": "markdown",
   "id": "9a453a00",
   "metadata": {},
   "source": [
    "Task 13: Move \"data.txt\" into \"MyZone/Week1\" using shutil.move()"
   ]
  },
  {
   "cell_type": "code",
   "execution_count": 22,
   "id": "8a2fdae1",
   "metadata": {},
   "outputs": [
    {
     "data": {
      "text/plain": [
       "'MyZone/Week1\\\\data.txt'"
      ]
     },
     "execution_count": 22,
     "metadata": {},
     "output_type": "execute_result"
    }
   ],
   "source": [
    "shutil.move(\"data.txt\", \"MyZone/Week1\")"
   ]
  },
  {
   "cell_type": "markdown",
   "id": "5bb7c451",
   "metadata": {},
   "source": [
    "Task 14: Delete the \"MyZoneBackup\" folder using shutil.rmtree()"
   ]
  },
  {
   "cell_type": "code",
   "execution_count": 24,
   "id": "eb14b4b0",
   "metadata": {},
   "outputs": [],
   "source": [
    "shutil.rmtree(\"MyZoneBackup\")"
   ]
  }
 ],
 "metadata": {
  "kernelspec": {
   "display_name": "Python 3",
   "language": "python",
   "name": "python3"
  },
  "language_info": {
   "codemirror_mode": {
    "name": "ipython",
    "version": 3
   },
   "file_extension": ".py",
   "mimetype": "text/x-python",
   "name": "python",
   "nbconvert_exporter": "python",
   "pygments_lexer": "ipython3",
   "version": "3.12.2"
  }
 },
 "nbformat": 4,
 "nbformat_minor": 5
}
